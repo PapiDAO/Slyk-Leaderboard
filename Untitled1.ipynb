{
 "cells": [
  {
   "cell_type": "code",
   "execution_count": 14,
   "id": "248652d9",
   "metadata": {},
   "outputs": [
    {
     "name": "stdout",
     "output_type": "stream",
     "text": [
      "[<Response [200]>, <Response [200]>, <Response [200]>, <Response [200]>, <Response [200]>, <Response [200]>, <Response [200]>, <Response [200]>, <Response [200]>, <Response [200]>, <Response [200]>, <Response [200]>, <Response [200]>, <Response [200]>, <Response [200]>, <Response [200]>, <Response [200]>, <Response [200]>, <Response [200]>, <Response [200]>, <Response [200]>, <Response [200]>, <Response [200]>, <Response [200]>, <Response [200]>, <Response [200]>, <Response [200]>, <Response [200]>, <Response [200]>]\n",
      "29\n",
      "[<Response [200]>, <Response [200]>, <Response [200]>, <Response [200]>, <Response [200]>, <Response [200]>, <Response [200]>, <Response [200]>, <Response [200]>, <Response [200]>, <Response [200]>, <Response [200]>, <Response [200]>, <Response [200]>, <Response [200]>, <Response [200]>, <Response [200]>, <Response [200]>, <Response [200]>, <Response [200]>, <Response [200]>, <Response [200]>, <Response [200]>, <Response [200]>, <Response [200]>, <Response [200]>, <Response [200]>, <Response [200]>, <Response [200]>]\n",
      "29\n",
      "10.4 s ± 0 ns per loop (mean ± std. dev. of 1 run, 1 loop each)\n"
     ]
    }
   ],
   "source": [
    "%%timeit -r 1\n",
    "import requests\n",
    "from requests_futures.sessions import FuturesSession\n",
    "from concurrent.futures import ProcessPoolExecutor\n",
    "from http.client import error\n",
    "import urllib.request\n",
    "import json\n",
    "from urllib.request import  Request\n",
    "from urllib.error import HTTPError\n",
    "\n",
    "def fetch(session, url):\n",
    "    with session.get(url) as response:\n",
    "            print(response.json())\n",
    "            return response.json()\n",
    "\n",
    "apikey = \"cES5DZL3B84Qxzt010eFmkDc0pSh1imI\"\n",
    "\n",
    "try:\n",
    "            req = Request(\"https://api.slyk.io/wallets\", headers={'User-Agent': 'Mozilla/5.0', 'apiKey': apikey})\n",
    "            data = urllib.request.urlopen(req, timeout = 100)\n",
    "            json_data = json.loads(data.read())\n",
    "            wallets = json_data\n",
    "except error as e:\n",
    "            print(e)\n",
    "    \n",
    "except HTTPError as e:\n",
    "            print(e)\n",
    "        \n",
    "\n",
    "wallets_urls = []\n",
    "balance = []\n",
    "for i in wallets['data']:\n",
    "    if(i['id'])!=\"00000000-0000-0000-0000-000000000000\":\n",
    "        wallets_urls.append(\"https://api.slyk.io/wallets/\"+str(i['id'])+\"/balance?apikey=cES5DZL3B84Qxzt010eFmkDc0pSh1imI\")\n",
    "\n",
    "        \n",
    "\n",
    "\n",
    "with FuturesSession(executor=ProcessPoolExecutor(max_workers=len(wallets_urls))) as session:\n",
    "                    futures = [session.get(url) for url in wallets_urls]\n",
    "                    for future in futures:\n",
    "                        balance.append(future.result())\n",
    "print(balance)\n",
    "print(len(balance))"
   ]
  },
  {
   "cell_type": "code",
   "execution_count": null,
   "id": "5e79ee69",
   "metadata": {},
   "outputs": [],
   "source": []
  }
 ],
 "metadata": {
  "kernelspec": {
   "display_name": "Python 3 (ipykernel)",
   "language": "python",
   "name": "python3"
  },
  "language_info": {
   "codemirror_mode": {
    "name": "ipython",
    "version": 3
   },
   "file_extension": ".py",
   "mimetype": "text/x-python",
   "name": "python",
   "nbconvert_exporter": "python",
   "pygments_lexer": "ipython3",
   "version": "3.9.7"
  }
 },
 "nbformat": 4,
 "nbformat_minor": 5
}
