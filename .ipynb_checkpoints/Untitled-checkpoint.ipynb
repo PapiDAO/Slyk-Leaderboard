{
 "cells": [
  {
   "cell_type": "code",
   "execution_count": 4,
   "id": "4831bcb2-5929-4ea1-a3a6-6fba2a2bc34c",
   "metadata": {},
   "outputs": [
    {
     "name": "stdout",
     "output_type": "stream",
     "text": [
      "[{'createdAt': '2021-10-23T18:27:57.000Z', 'customData': {}, 'id': '7aeff731-8738-4d17-9b9b-a36c03511212', 'locked': False, 'metadata': {}, 'name': 'Master Wallet', 'ownerId': None, 'reference': 'N3NFWDU3SH', 'updatedAt': '2021-10-23T18:27:57.000Z'}, {'createdAt': '2021-10-23T18:27:57.184Z', 'customData': {}, 'id': '00000000-0000-0000-0000-000000000000', 'locked': True, 'metadata': {}, 'name': 'Transit Wallet', 'ownerId': None, 'reference': 'CG8ZNHXFYY', 'updatedAt': '2021-10-23T18:27:57.184Z'}, {'createdAt': '2021-10-23T18:28:02.446Z', 'customData': {}, 'id': '9beb6203-1759-4e12-9468-677b74306d75', 'locked': False, 'metadata': {}, 'name': None, 'ownerId': '39efa974-fc09-4c51-beab-7a9ca884ef24', 'reference': '9KAAEZCZ2R', 'updatedAt': '2021-10-23T18:28:02.446Z'}, {'createdAt': '2021-10-23T19:11:34.038Z', 'customData': {}, 'id': 'cdb76d83-3385-48b4-bab8-f797dfa6d0bd', 'locked': False, 'metadata': {}, 'name': None, 'ownerId': '6081081f-ed9c-40d8-9199-26638fa055b4', 'reference': 'X3VWD6TA43', 'updatedAt': '2021-10-23T19:11:34.038Z'}, {'createdAt': '2021-10-26T03:19:38.083Z', 'customData': {}, 'id': '31d937e1-ed0d-493b-b865-f417a45f0ed8', 'locked': False, 'metadata': {}, 'name': None, 'ownerId': '4219e72b-d64d-423a-b7ad-1c31a61dead0', 'reference': 'MNVBAZ48NA', 'updatedAt': '2021-10-26T03:19:38.083Z'}, {'createdAt': '2021-10-27T16:06:32.636Z', 'customData': {}, 'id': 'b3282932-41e9-420a-a35a-b1c62ee8c514', 'locked': False, 'metadata': {}, 'name': None, 'ownerId': 'd04f35e2-b93e-4951-bb8f-be783278d3f6', 'reference': 'SK95NNAMBT', 'updatedAt': '2021-10-27T16:06:32.636Z'}, {'createdAt': '2021-10-27T18:40:39.217Z', 'customData': {}, 'id': '2cbdc5d0-97b5-426b-9560-d7694eb6640b', 'locked': False, 'metadata': {}, 'name': None, 'ownerId': '433687ab-f34c-4f0e-8c31-ed44dacd05df', 'reference': 'TVVTX148DV', 'updatedAt': '2021-10-27T18:40:39.217Z'}, {'createdAt': '2021-10-27T20:56:09.355Z', 'customData': {}, 'id': 'c48fa713-6292-4770-a283-55963041c7d4', 'locked': False, 'metadata': {}, 'name': None, 'ownerId': '55d86e06-340f-420d-b8ff-346272a18078', 'reference': '99H7NS48TD', 'updatedAt': '2021-10-27T20:56:09.355Z'}, {'createdAt': '2021-10-27T20:58:45.488Z', 'customData': {}, 'id': '2c7dbf1f-d4cf-4733-ad16-9230d595999a', 'locked': False, 'metadata': {}, 'name': None, 'ownerId': '42068dec-3ecb-4bbc-9905-fedec612238d', 'reference': 'NUGKUQVM8E', 'updatedAt': '2021-10-27T20:58:45.488Z'}, {'createdAt': '2021-10-27T21:18:18.896Z', 'customData': {}, 'id': 'd7120225-a12b-449c-a108-1b754fda611a', 'locked': False, 'metadata': {}, 'name': None, 'ownerId': '1783d090-8558-4eb5-bb79-2fb0f40882f3', 'reference': 'Y3WH2PZTYC', 'updatedAt': '2021-10-27T21:18:18.896Z'}, {'createdAt': '2021-10-27T22:21:37.058Z', 'customData': {}, 'id': '020dd176-4fb0-4afc-85e5-1390a98c17b4', 'locked': False, 'metadata': {}, 'name': None, 'ownerId': '3bbcf6ee-094d-4972-b9f1-91260d983d86', 'reference': '71UVCQ6ECC', 'updatedAt': '2021-10-27T22:21:37.058Z'}, {'createdAt': '2021-10-27T22:28:01.195Z', 'customData': {}, 'id': '8f08d3ca-2888-456e-972b-4070c6b51498', 'locked': False, 'metadata': {}, 'name': None, 'ownerId': '506aa1e8-0de1-4750-b579-04ba859d7901', 'reference': '6CQRBQHZQD', 'updatedAt': '2021-10-27T22:28:01.195Z'}, {'createdAt': '2021-10-27T22:43:13.224Z', 'customData': {}, 'id': '91eaa0b2-ccdc-4244-bddf-bcd5f373093a', 'locked': False, 'metadata': {}, 'name': None, 'ownerId': '6299d062-d8ea-4e67-acd8-6001bf8859a2', 'reference': 'BRXQDXPXKP', 'updatedAt': '2021-10-27T22:43:13.224Z'}, {'createdAt': '2021-10-27T22:48:08.693Z', 'customData': {}, 'id': '299d7c8e-86a0-4b49-83ec-e57252474edc', 'locked': False, 'metadata': {}, 'name': None, 'ownerId': 'e83b3b3b-1364-4e0e-857d-85e5aad8f74f', 'reference': 'UQQHU5Q4CZ', 'updatedAt': '2021-10-27T22:48:08.693Z'}, {'createdAt': '2021-10-28T01:03:36.997Z', 'customData': {}, 'id': '9ff83672-50c5-4ac9-a55a-d7fcf45e6814', 'locked': False, 'metadata': {}, 'name': None, 'ownerId': '496e3d39-43af-4324-b00f-429101a762dd', 'reference': 'DNS9ABRKN4', 'updatedAt': '2021-10-28T01:03:36.997Z'}, {'createdAt': '2021-10-28T01:31:15.065Z', 'customData': {}, 'id': 'a18f09bf-2412-46c2-9c0b-611819f19e89', 'locked': False, 'metadata': {}, 'name': None, 'ownerId': '65fcc2c7-2d78-45c9-b9f3-2111e4b3bce3', 'reference': 'DQE3GPXTRD', 'updatedAt': '2021-10-28T01:31:15.065Z'}, {'createdAt': '2021-10-28T06:09:04.196Z', 'customData': {}, 'id': '9163126c-11ac-4613-85d4-38ad3c474a5d', 'locked': False, 'metadata': {}, 'name': None, 'ownerId': '9c091e9b-795a-4485-9ee2-c187dc19f717', 'reference': '4RPBCF4F29', 'updatedAt': '2021-10-28T06:09:04.196Z'}, {'createdAt': '2021-10-28T08:02:25.584Z', 'customData': {}, 'id': '65ce8d8e-44ed-4162-bee9-463febf7a40e', 'locked': False, 'metadata': {}, 'name': None, 'ownerId': '9922b9ac-48c4-43a2-aafa-7a7bfde9455b', 'reference': 'U1EVS748X3', 'updatedAt': '2021-10-28T08:02:25.584Z'}, {'createdAt': '2021-10-28T08:37:14.827Z', 'customData': {}, 'id': '5a8ef205-b30f-405b-86ae-a4f83761dc89', 'locked': False, 'metadata': {}, 'name': None, 'ownerId': '864ecf08-f9ef-4bd9-bcc3-52d46d8bc679', 'reference': 'HEXFG1YC3S', 'updatedAt': '2021-10-28T08:37:14.827Z'}, {'createdAt': '2021-10-28T09:02:37.518Z', 'customData': {}, 'id': '66487db0-2ae6-4934-a760-3ca96a4c93be', 'locked': False, 'metadata': {}, 'name': None, 'ownerId': '4ece1387-214d-4b7d-ad55-d07cc57042bf', 'reference': 'XF7PJTUAD4', 'updatedAt': '2021-10-28T09:02:37.518Z'}, {'createdAt': '2021-10-28T09:05:59.905Z', 'customData': {}, 'id': '6149de06-d0be-4648-af26-280bae8180e4', 'locked': False, 'metadata': {}, 'name': None, 'ownerId': '0ccdeeb3-3a6d-4926-8efe-2784d9d03794', 'reference': 'EDS89F3VB4', 'updatedAt': '2021-10-28T09:05:59.905Z'}, {'createdAt': '2021-10-28T09:10:58.139Z', 'customData': {}, 'id': '13b25f1f-4a14-416a-835e-f7d6d8111b44', 'locked': False, 'metadata': {}, 'name': None, 'ownerId': 'ee0028bc-82dc-4bde-938d-854820bc3aa2', 'reference': 'W9MQC5G8X4', 'updatedAt': '2021-10-28T09:10:58.139Z'}, {'createdAt': '2021-10-28T09:16:39.090Z', 'customData': {}, 'id': '3963242c-6748-4d33-98c2-db4c05d00020', 'locked': False, 'metadata': {}, 'name': None, 'ownerId': 'd722fe24-ccab-4779-b2db-8f89b76a8f85', 'reference': '7KRFRZ22D9', 'updatedAt': '2021-10-28T09:16:39.090Z'}, {'createdAt': '2021-10-28T09:27:42.497Z', 'customData': {}, 'id': 'ae75b0f0-653c-4836-bc6a-788f766d841a', 'locked': False, 'metadata': {}, 'name': None, 'ownerId': '32d0caf7-c623-4cdb-b402-70a12040e58b', 'reference': 'UF3YSFMUMQ', 'updatedAt': '2021-10-28T09:27:42.497Z'}, {'createdAt': '2021-10-28T09:34:43.714Z', 'customData': {}, 'id': '2aedfd49-1cf3-4653-a745-a6c2fece4300', 'locked': False, 'metadata': {}, 'name': None, 'ownerId': '9a18cc7e-5a26-4f28-ad48-3fdb493b1f3c', 'reference': 'UX3JE9D4W1', 'updatedAt': '2021-10-28T09:34:43.714Z'}, {'createdAt': '2021-10-28T09:36:20.307Z', 'customData': {}, 'id': 'c1b910ec-9e7d-4d80-a381-a1f018c7911e', 'locked': False, 'metadata': {}, 'name': None, 'ownerId': '122a5f2f-b63c-4e78-933c-8d1471838811', 'reference': '2AZE2HT899', 'updatedAt': '2021-10-28T09:36:20.307Z'}, {'createdAt': '2021-10-28T09:41:41.897Z', 'customData': {}, 'id': 'e7a2a26b-4468-4d5a-bc6c-6febc1e21dc4', 'locked': False, 'metadata': {}, 'name': None, 'ownerId': 'b2b8c173-4448-4595-b66b-3d97ea44b349', 'reference': 'Z413WH5UMU', 'updatedAt': '2021-10-28T09:41:41.897Z'}, {'createdAt': '2021-10-28T09:47:28.110Z', 'customData': {}, 'id': '9bf94ecd-dc98-46e5-a13b-5b9eaa5ac3d8', 'locked': False, 'metadata': {}, 'name': None, 'ownerId': 'a76b3228-f162-4f0c-a385-0346ca752555', 'reference': '1QM92CHQHA', 'updatedAt': '2021-10-28T09:47:28.110Z'}, {'createdAt': '2021-10-28T09:50:58.293Z', 'customData': {}, 'id': '7920b792-f791-4433-841d-3c5515561a3b', 'locked': False, 'metadata': {}, 'name': None, 'ownerId': '1ba7615c-80d5-4066-9f8a-35f7c16f2aed', 'reference': '53Q4RDVMA7', 'updatedAt': '2021-10-28T09:50:58.293Z'}, {'createdAt': '2021-10-28T10:47:55.763Z', 'customData': {}, 'id': '7231969b-688d-436a-b4ed-fad84b10b92a', 'locked': False, 'metadata': {}, 'name': None, 'ownerId': '77588cd1-e5fb-410b-bb7f-7d0064604a67', 'reference': 'V587MMR1NP', 'updatedAt': '2021-10-28T10:47:55.763Z'}]\n"
     ]
    },
    {
     "ename": "TypeError",
     "evalue": "'NoneType' object is not subscriptable",
     "output_type": "error",
     "traceback": [
      "\u001b[1;31m---------------------------------------------------------------------------\u001b[0m",
      "\u001b[1;31mTypeError\u001b[0m                                 Traceback (most recent call last)",
      "\u001b[1;32m~\\AppData\\Local\\Temp/ipykernel_7864/3594293776.py\u001b[0m in \u001b[0;36m<module>\u001b[1;34m\u001b[0m\n\u001b[0;32m     23\u001b[0m \u001b[1;33m\u001b[0m\u001b[0m\n\u001b[0;32m     24\u001b[0m \u001b[1;33m@\u001b[0m\u001b[0mtimer\u001b[0m\u001b[1;33m(\u001b[0m\u001b[1;36m1\u001b[0m\u001b[1;33m,\u001b[0m \u001b[1;36m5\u001b[0m\u001b[1;33m)\u001b[0m\u001b[1;33m\u001b[0m\u001b[1;33m\u001b[0m\u001b[0m\n\u001b[1;32m---> 25\u001b[1;33m \u001b[1;32mdef\u001b[0m \u001b[0mmain\u001b[0m\u001b[1;33m(\u001b[0m\u001b[1;33m)\u001b[0m\u001b[1;33m:\u001b[0m\u001b[1;33m\u001b[0m\u001b[1;33m\u001b[0m\u001b[0m\n\u001b[0m\u001b[0;32m     26\u001b[0m     \u001b[0mwallets\u001b[0m \u001b[1;33m=\u001b[0m \u001b[0mfetch\u001b[0m\u001b[1;33m(\u001b[0m\u001b[0mrequests\u001b[0m\u001b[1;33m.\u001b[0m\u001b[0mSession\u001b[0m\u001b[1;33m(\u001b[0m\u001b[1;33m)\u001b[0m\u001b[1;33m,\u001b[0m \u001b[1;34m\"https://api.slyk.io/wallets?apikey=cES5DZL3B84Qxzt010eFmkDc0pSh1imI\"\u001b[0m\u001b[1;33m)\u001b[0m\u001b[1;33m\u001b[0m\u001b[1;33m\u001b[0m\u001b[0m\n\u001b[0;32m     27\u001b[0m     \u001b[0mwallets_urls\u001b[0m \u001b[1;33m=\u001b[0m \u001b[1;33m[\u001b[0m\u001b[1;33m]\u001b[0m\u001b[1;33m\u001b[0m\u001b[1;33m\u001b[0m\u001b[0m\n",
      "\u001b[1;32m~\\AppData\\Local\\Temp/ipykernel_7864/3594293776.py\u001b[0m in \u001b[0;36mwrapper\u001b[1;34m(func)\u001b[0m\n\u001b[0;32m      8\u001b[0m \u001b[1;32mdef\u001b[0m \u001b[0mtimer\u001b[0m\u001b[1;33m(\u001b[0m\u001b[0mnumber\u001b[0m\u001b[1;33m,\u001b[0m \u001b[0mrepeat\u001b[0m\u001b[1;33m)\u001b[0m\u001b[1;33m:\u001b[0m\u001b[1;33m\u001b[0m\u001b[1;33m\u001b[0m\u001b[0m\n\u001b[0;32m      9\u001b[0m     \u001b[1;32mdef\u001b[0m \u001b[0mwrapper\u001b[0m\u001b[1;33m(\u001b[0m\u001b[0mfunc\u001b[0m\u001b[1;33m)\u001b[0m\u001b[1;33m:\u001b[0m\u001b[1;33m\u001b[0m\u001b[1;33m\u001b[0m\u001b[0m\n\u001b[1;32m---> 10\u001b[1;33m         \u001b[0mruns\u001b[0m \u001b[1;33m=\u001b[0m \u001b[0mtimeit\u001b[0m\u001b[1;33m.\u001b[0m\u001b[0mrepeat\u001b[0m\u001b[1;33m(\u001b[0m\u001b[0mfunc\u001b[0m\u001b[1;33m,\u001b[0m \u001b[0mnumber\u001b[0m\u001b[1;33m=\u001b[0m\u001b[0mnumber\u001b[0m\u001b[1;33m,\u001b[0m \u001b[0mrepeat\u001b[0m\u001b[1;33m=\u001b[0m\u001b[0mrepeat\u001b[0m\u001b[1;33m)\u001b[0m\u001b[1;33m\u001b[0m\u001b[1;33m\u001b[0m\u001b[0m\n\u001b[0m\u001b[0;32m     11\u001b[0m         \u001b[0mprint\u001b[0m\u001b[1;33m(\u001b[0m\u001b[0msum\u001b[0m\u001b[1;33m(\u001b[0m\u001b[0mruns\u001b[0m\u001b[1;33m)\u001b[0m \u001b[1;33m/\u001b[0m \u001b[0mlen\u001b[0m\u001b[1;33m(\u001b[0m\u001b[0mruns\u001b[0m\u001b[1;33m)\u001b[0m\u001b[1;33m)\u001b[0m\u001b[1;33m\u001b[0m\u001b[1;33m\u001b[0m\u001b[0m\n\u001b[0;32m     12\u001b[0m \u001b[1;33m\u001b[0m\u001b[0m\n",
      "\u001b[1;32m~\\AppData\\Local\\Programs\\Python\\Python39\\lib\\timeit.py\u001b[0m in \u001b[0;36mrepeat\u001b[1;34m(stmt, setup, timer, repeat, number, globals)\u001b[0m\n\u001b[0;32m    236\u001b[0m            repeat=default_repeat, number=default_number, globals=None):\n\u001b[0;32m    237\u001b[0m     \u001b[1;34m\"\"\"Convenience function to create Timer object and call repeat method.\"\"\"\u001b[0m\u001b[1;33m\u001b[0m\u001b[1;33m\u001b[0m\u001b[0m\n\u001b[1;32m--> 238\u001b[1;33m     \u001b[1;32mreturn\u001b[0m \u001b[0mTimer\u001b[0m\u001b[1;33m(\u001b[0m\u001b[0mstmt\u001b[0m\u001b[1;33m,\u001b[0m \u001b[0msetup\u001b[0m\u001b[1;33m,\u001b[0m \u001b[0mtimer\u001b[0m\u001b[1;33m,\u001b[0m \u001b[0mglobals\u001b[0m\u001b[1;33m)\u001b[0m\u001b[1;33m.\u001b[0m\u001b[0mrepeat\u001b[0m\u001b[1;33m(\u001b[0m\u001b[0mrepeat\u001b[0m\u001b[1;33m,\u001b[0m \u001b[0mnumber\u001b[0m\u001b[1;33m)\u001b[0m\u001b[1;33m\u001b[0m\u001b[1;33m\u001b[0m\u001b[0m\n\u001b[0m\u001b[0;32m    239\u001b[0m \u001b[1;33m\u001b[0m\u001b[0m\n\u001b[0;32m    240\u001b[0m \u001b[1;32mdef\u001b[0m \u001b[0mmain\u001b[0m\u001b[1;33m(\u001b[0m\u001b[0margs\u001b[0m\u001b[1;33m=\u001b[0m\u001b[1;32mNone\u001b[0m\u001b[1;33m,\u001b[0m \u001b[1;33m*\u001b[0m\u001b[1;33m,\u001b[0m \u001b[0m_wrap_timer\u001b[0m\u001b[1;33m=\u001b[0m\u001b[1;32mNone\u001b[0m\u001b[1;33m)\u001b[0m\u001b[1;33m:\u001b[0m\u001b[1;33m\u001b[0m\u001b[1;33m\u001b[0m\u001b[0m\n",
      "\u001b[1;32m~\\AppData\\Local\\Programs\\Python\\Python39\\lib\\timeit.py\u001b[0m in \u001b[0;36mrepeat\u001b[1;34m(self, repeat, number)\u001b[0m\n\u001b[0;32m    203\u001b[0m         \u001b[0mr\u001b[0m \u001b[1;33m=\u001b[0m \u001b[1;33m[\u001b[0m\u001b[1;33m]\u001b[0m\u001b[1;33m\u001b[0m\u001b[1;33m\u001b[0m\u001b[0m\n\u001b[0;32m    204\u001b[0m         \u001b[1;32mfor\u001b[0m \u001b[0mi\u001b[0m \u001b[1;32min\u001b[0m \u001b[0mrange\u001b[0m\u001b[1;33m(\u001b[0m\u001b[0mrepeat\u001b[0m\u001b[1;33m)\u001b[0m\u001b[1;33m:\u001b[0m\u001b[1;33m\u001b[0m\u001b[1;33m\u001b[0m\u001b[0m\n\u001b[1;32m--> 205\u001b[1;33m             \u001b[0mt\u001b[0m \u001b[1;33m=\u001b[0m \u001b[0mself\u001b[0m\u001b[1;33m.\u001b[0m\u001b[0mtimeit\u001b[0m\u001b[1;33m(\u001b[0m\u001b[0mnumber\u001b[0m\u001b[1;33m)\u001b[0m\u001b[1;33m\u001b[0m\u001b[1;33m\u001b[0m\u001b[0m\n\u001b[0m\u001b[0;32m    206\u001b[0m             \u001b[0mr\u001b[0m\u001b[1;33m.\u001b[0m\u001b[0mappend\u001b[0m\u001b[1;33m(\u001b[0m\u001b[0mt\u001b[0m\u001b[1;33m)\u001b[0m\u001b[1;33m\u001b[0m\u001b[1;33m\u001b[0m\u001b[0m\n\u001b[0;32m    207\u001b[0m         \u001b[1;32mreturn\u001b[0m \u001b[0mr\u001b[0m\u001b[1;33m\u001b[0m\u001b[1;33m\u001b[0m\u001b[0m\n",
      "\u001b[1;32m~\\AppData\\Local\\Programs\\Python\\Python39\\lib\\timeit.py\u001b[0m in \u001b[0;36mtimeit\u001b[1;34m(self, number)\u001b[0m\n\u001b[0;32m    175\u001b[0m         \u001b[0mgc\u001b[0m\u001b[1;33m.\u001b[0m\u001b[0mdisable\u001b[0m\u001b[1;33m(\u001b[0m\u001b[1;33m)\u001b[0m\u001b[1;33m\u001b[0m\u001b[1;33m\u001b[0m\u001b[0m\n\u001b[0;32m    176\u001b[0m         \u001b[1;32mtry\u001b[0m\u001b[1;33m:\u001b[0m\u001b[1;33m\u001b[0m\u001b[1;33m\u001b[0m\u001b[0m\n\u001b[1;32m--> 177\u001b[1;33m             \u001b[0mtiming\u001b[0m \u001b[1;33m=\u001b[0m \u001b[0mself\u001b[0m\u001b[1;33m.\u001b[0m\u001b[0minner\u001b[0m\u001b[1;33m(\u001b[0m\u001b[0mit\u001b[0m\u001b[1;33m,\u001b[0m \u001b[0mself\u001b[0m\u001b[1;33m.\u001b[0m\u001b[0mtimer\u001b[0m\u001b[1;33m)\u001b[0m\u001b[1;33m\u001b[0m\u001b[1;33m\u001b[0m\u001b[0m\n\u001b[0m\u001b[0;32m    178\u001b[0m         \u001b[1;32mfinally\u001b[0m\u001b[1;33m:\u001b[0m\u001b[1;33m\u001b[0m\u001b[1;33m\u001b[0m\u001b[0m\n\u001b[0;32m    179\u001b[0m             \u001b[1;32mif\u001b[0m \u001b[0mgcold\u001b[0m\u001b[1;33m:\u001b[0m\u001b[1;33m\u001b[0m\u001b[1;33m\u001b[0m\u001b[0m\n",
      "\u001b[1;32m~\\AppData\\Local\\Programs\\Python\\Python39\\lib\\timeit.py\u001b[0m in \u001b[0;36minner\u001b[1;34m(_it, _timer, _stmt)\u001b[0m\n",
      "\u001b[1;32m~\\AppData\\Local\\Temp/ipykernel_7864/3594293776.py\u001b[0m in \u001b[0;36mmain\u001b[1;34m()\u001b[0m\n\u001b[0;32m     26\u001b[0m     \u001b[0mwallets\u001b[0m \u001b[1;33m=\u001b[0m \u001b[0mfetch\u001b[0m\u001b[1;33m(\u001b[0m\u001b[0mrequests\u001b[0m\u001b[1;33m.\u001b[0m\u001b[0mSession\u001b[0m\u001b[1;33m(\u001b[0m\u001b[1;33m)\u001b[0m\u001b[1;33m,\u001b[0m \u001b[1;34m\"https://api.slyk.io/wallets?apikey=cES5DZL3B84Qxzt010eFmkDc0pSh1imI\"\u001b[0m\u001b[1;33m)\u001b[0m\u001b[1;33m\u001b[0m\u001b[1;33m\u001b[0m\u001b[0m\n\u001b[0;32m     27\u001b[0m     \u001b[0mwallets_urls\u001b[0m \u001b[1;33m=\u001b[0m \u001b[1;33m[\u001b[0m\u001b[1;33m]\u001b[0m\u001b[1;33m\u001b[0m\u001b[1;33m\u001b[0m\u001b[0m\n\u001b[1;32m---> 28\u001b[1;33m     \u001b[1;32mfor\u001b[0m \u001b[0mi\u001b[0m \u001b[1;32min\u001b[0m \u001b[0mwallets\u001b[0m\u001b[1;33m[\u001b[0m\u001b[1;34m'data'\u001b[0m\u001b[1;33m]\u001b[0m\u001b[1;33m:\u001b[0m\u001b[1;33m\u001b[0m\u001b[1;33m\u001b[0m\u001b[0m\n\u001b[0m\u001b[0;32m     29\u001b[0m         \u001b[0mwallets_urls\u001b[0m\u001b[1;33m.\u001b[0m\u001b[0mappend\u001b[0m\u001b[1;33m(\u001b[0m\u001b[1;34m\"https://api.slyk.io/wallets/\"\u001b[0m\u001b[1;33m+\u001b[0m\u001b[0mi\u001b[0m\u001b[1;33m[\u001b[0m\u001b[1;34m'id'\u001b[0m\u001b[1;33m]\u001b[0m\u001b[1;33m+\u001b[0m\u001b[1;34m\"/balance?apikey=cES5DZL3B84Qxzt010eFmkDc0pSh1imI\"\u001b[0m\u001b[1;33m)\u001b[0m\u001b[1;33m\u001b[0m\u001b[1;33m\u001b[0m\u001b[0m\n\u001b[0;32m     30\u001b[0m     \u001b[1;32mwith\u001b[0m \u001b[0mThreadPoolExecutor\u001b[0m\u001b[1;33m(\u001b[0m\u001b[0mmax_workers\u001b[0m\u001b[1;33m=\u001b[0m\u001b[1;36m500\u001b[0m\u001b[1;33m)\u001b[0m \u001b[1;32mas\u001b[0m \u001b[0mexecutor\u001b[0m\u001b[1;33m:\u001b[0m\u001b[1;33m\u001b[0m\u001b[1;33m\u001b[0m\u001b[0m\n",
      "\u001b[1;31mTypeError\u001b[0m: 'NoneType' object is not subscriptable"
     ]
    }
   ],
   "source": [
    "from concurrent.futures import ThreadPoolExecutor\n",
    "\n",
    "import requests\n",
    "\n",
    "import timeit\n",
    "\n",
    "\n",
    "def timer(number, repeat):\n",
    "    def wrapper(func):\n",
    "        runs = timeit.repeat(func, number=number, repeat=repeat)\n",
    "        print(sum(runs) / len(runs))\n",
    "\n",
    "    return wrapper\n",
    "\n",
    "URL = 'https://httpbin.org/uuid'\n",
    "\n",
    "\n",
    "\n",
    "def fetch(session, url):\n",
    "    with session.get(url) as response:\n",
    "        print(response.json()['data'])\n",
    "\n",
    "\n",
    "@timer(1, 5)\n",
    "def main():\n",
    "    wallets = fetch(requests.Session(), \"https://api.slyk.io/wallets?apikey=cES5DZL3B84Qxzt010eFmkDc0pSh1imI\")\n",
    "    wallets_urls = [] \n",
    "    for i in wallets:\n",
    "        wallets_urls.append(\"https://api.slyk.io/wallets/\"+i['id']+\"/balance?apikey=cES5DZL3B84Qxzt010eFmkDc0pSh1imI\") \n",
    "    with ThreadPoolExecutor(max_workers=500) as executor:\n",
    "        with requests.Session() as session:\n",
    "            executor.map(fetch, [session] * len(wallets), wallets_urls)\n",
    "            executor.shutdown(wait=True)"
   ]
  },
  {
   "cell_type": "code",
   "execution_count": null,
   "id": "ef7134f8-553c-4ea2-9bde-8eea7e238f5f",
   "metadata": {},
   "outputs": [],
   "source": []
  }
 ],
 "metadata": {
  "kernelspec": {
   "display_name": "Python 3 (ipykernel)",
   "language": "python",
   "name": "python3"
  },
  "language_info": {
   "codemirror_mode": {
    "name": "ipython",
    "version": 3
   },
   "file_extension": ".py",
   "mimetype": "text/x-python",
   "name": "python",
   "nbconvert_exporter": "python",
   "pygments_lexer": "ipython3",
   "version": "3.9.7"
  }
 },
 "nbformat": 4,
 "nbformat_minor": 5
}
